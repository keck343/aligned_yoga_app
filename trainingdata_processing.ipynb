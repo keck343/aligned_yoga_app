{
 "cells": [
  {
   "cell_type": "code",
   "execution_count": 18,
   "metadata": {},
   "outputs": [],
   "source": [
    "#install boto3, awcli on EC2\n",
    "\n",
    "import boto3\n",
    "import os\n",
    "import os.path\n",
    "import shutil\n",
    "\n",
    "\n",
    "# HELPER FUNCTION\n",
    "def upload_dir(path, bucket_name):\n",
    "    for root, dirs, files in os.walk(path):\n",
    "        for file in files:\n",
    "            key = path + file\n",
    "            s3 = boto3.resource('s3')\n",
    "            s3.Bucket(bucket_name).upload_file(os.path.join(root, file), key)\n",
    "\n",
    "\n",
    "bucket_name = 'alignedstorage'\n",
    "prefix = \"training_input\"\n",
    "bucket = boto3.resource('s3').Bucket(bucket_name)\n",
    "ct=0\n",
    "for obj in bucket.objects.filter(Prefix=prefix):\n",
    "    path, file = os.path.split(obj.key)\n",
    "    if path != \"\":\n",
    "      \n",
    "        # 1. grab name of the file\n",
    "        file_name = str(file)\n",
    "        name, _ = os.path.splitext(file_name)\n",
    "  \n",
    "        # 2. save file in temp\n",
    "        bucket.download_file(prefix+\"/\"+file_name, '/tmp/'+file_name)\n",
    "        \n",
    "        path = '~/data/output/training_data/' + name #without extension\n",
    "        os.mkdir(path)\n",
    "        \n",
    "        # 4. run binary, how to execute this?\n",
    "        \n",
    "#     #https://stackoverflow.com/questions/89228/calling-an-external-command-in-python?fbclid=IwAR0A549FtodaXDu3OnZH843qLk98Ha2mQiCeajFDb_xM88jxLNdfaxC5RdQ\n",
    "    \n",
    "#     ~/openpose/examples/openpose/openpose.bin\n",
    "#      --video ~/ENTER PATH\n",
    "#      --write_video ~/ENTER PATH FILE\n",
    "#       --write_json ~/ENTER PATH --display 0\n",
    "\n",
    "        # 5. save output video on s3\n",
    "        output_prefix = 'output'\n",
    "        data = 'warrior.avi' # CHANGE HERE - this should be the file data\n",
    "        key = output_prefix+'/'+data\n",
    "        boto3.resource('s3').Bucket(bucket_name).upload_file(data, key)\n",
    "        \n",
    "        # 6. save json files on s3                \n",
    "        json_folder = 'json_test/' # CHANGE HERE - this should be folder from EC2\n",
    "        upload_dir(json_folder, bucket_name)\n",
    "        \n",
    "        # 7. delete output video and json from EC2\n",
    "#         os.remove() #removes a file.\n",
    "#         shutil.rmtree() #deletes a directory and all its contents.\n"
   ]
  },
  {
   "cell_type": "code",
   "execution_count": null,
   "metadata": {},
   "outputs": [],
   "source": []
  }
 ],
 "metadata": {
  "kernelspec": {
   "display_name": "Python 3",
   "language": "python",
   "name": "python3"
  },
  "language_info": {
   "codemirror_mode": {
    "name": "ipython",
    "version": 3
   },
   "file_extension": ".py",
   "mimetype": "text/x-python",
   "name": "python",
   "nbconvert_exporter": "python",
   "pygments_lexer": "ipython3",
   "version": "3.7.0"
  }
 },
 "nbformat": 4,
 "nbformat_minor": 2
}
