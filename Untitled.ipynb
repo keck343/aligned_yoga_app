{
 "cells": [
  {
   "cell_type": "code",
   "execution_count": 28,
   "metadata": {},
   "outputs": [],
   "source": [
    "import numpy as np\n",
    "\n",
    "#  print(\"\"\"\n",
    "# 1. arms\n",
    "# 2. front_knee_obtuse\n",
    "# 3. front_knee_acute\n",
    "# 4. head_sideways\n",
    "# 5. hips_angled\n",
    "# 6. narrow_step\n",
    "# 7. shoulders_up\n",
    "# 8. torso_forward\n",
    "# 9. torso_backward\n",
    "# 10. wide_step\n",
    "# \"\"\")\n",
    "\n",
    "class ProcessLabel:\n",
    "\n",
    "    @classmethod\n",
    "    def to_text(cls, labels: list):\n",
    "        \"\"\"Converts the labels from the model to English text feedback\"\"\"\n",
    "        result = []\n",
    "\n",
    "        trans_fd = {\n",
    "            0: 'straighten your arms, keep palms facing down',\n",
    "            1: 'make sure your front shin is perpendicular to the floor',\n",
    "            2: 'make sure your knee is not extended beyond your ankle,but is in line with the heel',\n",
    "            3: 'turn your head and look over your front fingers. Fix your \\\n",
    "            gaze to increase the focus',\n",
    "            4: 'square your hips and shoulders sideways towards the camera. \\\n",
    "               Engage your core! Tailbone down, belly in',\n",
    "            5: 'make a wider step, your feet are too close together',\n",
    "            6: 'drop your shoulders away from your ears and actively reach \\\n",
    "             towards both ends of the room',\n",
    "            7: \"stack your shoulders directly over your hips so that rib cage \\\n",
    "            isn't floating forward\",\n",
    "            8: \"stack your shoulders directly over your hips so that rib cage \\\n",
    "                isn't floating backward\",\n",
    "            9: 'make a shorter stance, seems like your feet are be too wide \\\n",
    "            apart. Back leg straight and strong'\n",
    "        }\n",
    "\n",
    "        if labels.count(1) == 0:\n",
    "            result.append('Excellent job! Keep it up, yogi! \\\n",
    "            Wanna try different pose?')\n",
    "\n",
    "        if labels.count(1) == 1:\n",
    "            index = np.where(np.array(labels) == 1)[0]\n",
    "            output = trans_fd[index[0]]\n",
    "            result.append(f'Very very nice! One little thing: \\\n",
    "            try to {output}!')\n",
    "\n",
    "        if labels.count(1) >= 2 and labels.count(1) < 7:\n",
    "\n",
    "            index = np.where(np.array(labels) == 1)[0]  # list\n",
    "            result.append('Well done! Couple of things to keep \\\n",
    "            in mind for you:')\n",
    "            ct = 0\n",
    "            for i in index:\n",
    "                result.append(f'- \\\n",
    "                {trans_fd[i][0].capitalize() + trans_fd[i][1:]}.')\n",
    "                ct +=1\n",
    "                if ct == 3:\n",
    "                    break\n",
    "\n",
    "        if labels.count(1) >= 7:\n",
    "            result.append(\"Are you sure you were following my instructions? \\\n",
    "            Let's try again!\")\n",
    "\n",
    "        return result"
   ]
  },
  {
   "cell_type": "code",
   "execution_count": 29,
   "metadata": {},
   "outputs": [],
   "source": [
    "labels = [1, 1, 0, 0, 0, 0 ,0 ,0, 0]"
   ]
  },
  {
   "cell_type": "code",
   "execution_count": 30,
   "metadata": {},
   "outputs": [
    {
     "data": {
      "text/plain": [
       "['Well done! Couple of things to keep             in mind for you:',\n",
       " '-                 Straighten your arms, keep palms facing down.',\n",
       " '-                 Make sure your front shin is perpendicular to the floor.']"
      ]
     },
     "execution_count": 30,
     "metadata": {},
     "output_type": "execute_result"
    }
   ],
   "source": [
    "ProcessLabel.to_text(labels)"
   ]
  },
  {
   "cell_type": "code",
   "execution_count": null,
   "metadata": {},
   "outputs": [],
   "source": []
  }
 ],
 "metadata": {
  "kernelspec": {
   "display_name": "Python 3",
   "language": "python",
   "name": "python3"
  },
  "language_info": {
   "codemirror_mode": {
    "name": "ipython",
    "version": 3
   },
   "file_extension": ".py",
   "mimetype": "text/x-python",
   "name": "python",
   "nbconvert_exporter": "python",
   "pygments_lexer": "ipython3",
   "version": "3.7.0"
  }
 },
 "nbformat": 4,
 "nbformat_minor": 2
}
