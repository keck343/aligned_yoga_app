{
 "cells": [
  {
   "cell_type": "code",
   "execution_count": null,
   "metadata": {},
   "outputs": [],
   "source": [
    "#install boto3, awcli\n",
    "\n",
    "import boto3\n",
    "import os\n",
    "import os.path\n",
    " \n",
    "bucket_name = 'alignedstorage'\n",
    "prefix = \"training_input\"\n",
    "bucket = boto3.resource('s3').Bucket(bucket_name)\n",
    "\n",
    "for obj in bucket.objects.filter(Prefix=prefix):\n",
    "    path, file = os.path.split(obj.key)\n",
    "    if path != \"\":\n",
    "      \n",
    "        # 1. grab name of the file\n",
    "        file_name = str(file)\n",
    "        name, _ = os.path.splitext(file_name)\n",
    "  \n",
    "\n",
    "        # 2. save file in temp\n",
    "        bucket.download_file(prefix+\"/\"+file_name, '/tmp/'+file_name)\n",
    "\n"
   ]
  },
  {
   "cell_type": "code",
   "execution_count": null,
   "metadata": {},
   "outputs": [],
   "source": [
    "\t# 3. create folder for json\n",
    "\tpath = '~/data/output/training_data' + name #without extension\n",
    "\tos.mkdir(path)\n",
    "\n",
    "\t# 4. run binary, how to execute this? Maybe better use Python API?\n",
    "\t#https://stackoverflow.com/questions/89228/calling-an-external-command-in-python?fbclid=IwAR0A549FtodaXDu3OnZH843qLk98Ha2mQiCeajFDb_xM88jxLNdfaxC5RdQ\n",
    "\t\n",
    "\t~/openpose/examples/openpose/openpose.bin\n",
    "\t --video ~/ENTER PATH\n",
    "\t  --write_video ~/ENTER PATH FILE\n",
    "\t   --write_json ~/ENTER PATH --display 0\n",
    "\n",
    "\t# 5. save output on s3\n",
    "\ts3.Bucket(bucket_name).put_object(Key =FILE, Body = DATA)\n",
    "\n",
    "\t# 6. delete output video and json from EC2"
   ]
  }
 ],
 "metadata": {
  "kernelspec": {
   "display_name": "Python 3",
   "language": "python",
   "name": "python3"
  },
  "language_info": {
   "codemirror_mode": {
    "name": "ipython",
    "version": 3
   },
   "file_extension": ".py",
   "mimetype": "text/x-python",
   "name": "python",
   "nbconvert_exporter": "python",
   "pygments_lexer": "ipython3",
   "version": "3.7.0"
  }
 },
 "nbformat": 4,
 "nbformat_minor": 2
}
